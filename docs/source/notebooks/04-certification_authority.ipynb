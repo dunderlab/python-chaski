{
 "cells": [
  {
   "cell_type": "code",
   "execution_count": null,
   "id": "cf4c339d-0f6b-430f-8ef8-5698baab68da",
   "metadata": {
    "editable": true,
    "nbsphinx": "hidden",
    "slideshow": {
     "slide_type": ""
    },
    "tags": []
   },
   "outputs": [],
   "source": [
    "import sys\n",
    "import asyncio\n",
    "\n",
    "sys.path.append('../../..')"
   ]
  },
  {
   "cell_type": "markdown",
   "id": "f817ed6e-a0ed-4466-b2ea-f66579482a32",
   "metadata": {},
   "source": [
    "# Certification Authority\n",
    "\n",
    "A Certification Authority (CA) is a trusted entity that issues digital certificates.\n",
    "These digital certificates are used to verify the identity of entities such as\n",
    "websites, email addresses, or companies. The CA plays a critical role in\n",
    "Public Key Infrastructure (PKI), which ensures secure, encrypted communication\n",
    "over networks like the internet.\n",
    "\n",
    "The main functions of a CA include:\n",
    "\n",
    "- **Issuing Certificates**: They generate and distribute digital certificates\n",
    "  to entities after verifying their identity.\n",
    "- **Revoking Certificates**: If a certificate is found to be compromised or\n",
    "  invalid, the CA can revoke it and maintain a list of revoked certificates.\n",
    "- **Validating Certificates**: They provide mechanisms to verify the validity\n",
    "  of certificates, ensuring that entities are communicating securely.\n",
    "\n",
    "Popular Certification Authorities include Let's Encrypt, Verisign, and\n",
    "Comodo. They follow stringent protocols to maintain security and trust\n",
    "across digital communications."
   ]
  },
  {
   "cell_type": "markdown",
   "id": "1415c4c5-a83b-4e5a-bd12-b0a79db1a0e2",
   "metadata": {},
   "source": [
    "## Chaski Certification Authority\n",
    "\n",
    "The Chaski Certification Authority (CA) module provides essential functions for managing digital certificates within the Chaski distributed network framework. It plays a critical role in ensuring secure and encrypted communication between nodes in a distributed network environment.\n",
    "\n",
    "The implemented functionalities of the Chaski CA include:\n",
    "\n",
    "- **Certificate Generation**: The CA generates digital certificates for nodes, which can be used to establish secure connections. This involves creating a public-private key pair and signing the certificate with the CA's private key.\n",
    "- **Certificate Revocation**: If a certificate is compromised or needs to be invalidated, the CA can revoke it. The revoked certificates are maintained in a Certificate Revocation List (CRL).\n",
    "- **Certificate Validation**: Nodes can validate digital certificates issued by the CA to ensure they are authentic and have not been revoked.\n",
    "- **Secure Communication**: The CA facilitates the establishment of SSL/TLS contexts for secure communications between nodes using issued certificates.\n",
    "\n",
    "The `CertificateAuthority` class in the `chaski.utils.certificate_authority` module implements these features. This class is used by Chaski nodes to request certificates, validate peers, and manage secure communications:"
   ]
  },
  {
   "cell_type": "code",
   "execution_count": null,
   "id": "d68b1830-32bf-4d4c-94bd-411a22e6b8c4",
   "metadata": {},
   "outputs": [],
   "source": [
    "from chaski.utils.certificate_authority import CertificateAuthority\n",
    "import ipaddress"
   ]
  },
  {
   "cell_type": "code",
   "execution_count": null,
   "id": "51812933-4c37-4580-9a71-c6f22299ff1b",
   "metadata": {},
   "outputs": [],
   "source": [
    "ca = CertificateAuthority(\n",
    "    'Test-ID',\n",
    "    ipaddress.IPv4Address('192.168.0.1'),\n",
    "    ssl_certificates_location='location_dir',\n",
    "    ssl_certificate_attributes={\n",
    "        'Country Name': \"CO\",\n",
    "        'Locality Name': \"Manizales\",\n",
    "        'Organization Name': \"DunderLab\",\n",
    "        'State or Province Name': \"Caldas\",\n",
    "        'Common Name': \"Chaski-Confluent\",\n",
    "    },\n",
    ")"
   ]
  },
  {
   "cell_type": "markdown",
   "id": "11a703cb-7321-44e2-be2b-fc7ce49e38dc",
   "metadata": {
    "lines_to_next_cell": 2
   },
   "source": [
    "This code initializes an instance of the `CertificateAuthority` class using the provided parameters.\n",
    "\n",
    "- `'Test-ID'`: A string identifier for the certificate authority instance.\n",
    "- `ipaddress.IPv4Address('192.168.0.1')`: The IP address assigned to the CA.\n",
    "- `ssl_certificates_location=self.ssl_certificates_location`: The directory path where SSL certificates are stored.\n",
    "- `ssl_certificate_attributes`: A dictionary containing attributes for the SSL certificate, such as the country, locality, organization, state, and common name.\n",
    "\n",
    "This instance will be used for generating, revoking, and validating digital certificates, and for facilitating secure communications in the Chaski network."
   ]
  },
  {
   "cell_type": "code",
   "execution_count": null,
   "id": "90d06fa5-d95c-475c-946d-b95f1dc926f5",
   "metadata": {},
   "outputs": [],
   "source": [
    "ca.setup_certificate_authority()"
   ]
  },
  {
   "cell_type": "markdown",
   "id": "9544fa59",
   "metadata": {},
   "source": [
    "This code initializes the Certificate Authority, setting up the necessary\n",
    "directory structure and creating the CA's private key and self-signed root certificate."
   ]
  },
  {
   "cell_type": "code",
   "execution_count": null,
   "id": "00eecd3c-e48f-4e4d-9256-ceee5c26734a",
   "metadata": {},
   "outputs": [],
   "source": [
    "ca.generate_key_and_csr()"
   ]
  },
  {
   "cell_type": "markdown",
   "id": "0c282600",
   "metadata": {},
   "source": [
    "This code generates a new private key and a Certificate Signing Request (CSR) for the certificate authority.\n",
    "The private key is stored securely, and the CSR is later used to generate valid certificates."
   ]
  },
  {
   "cell_type": "code",
   "execution_count": null,
   "id": "e636ec7b-cef4-43ef-b571-c972a2c45fcf",
   "metadata": {},
   "outputs": [],
   "source": [
    "ca.sign_csr(\n",
    "    \"\"\"-----BEGIN CERTIFICATE REQUEST-----\n",
    "MIICpjCCAY4CAQAwYTELMAkGA1UEBhMCQ08xDzANBgNVBAgMBkNhbGRhczESMBAG\n",
    "A1UEBwwJTWFuaXphbGVzMRIwEAYDVQQKDAlEdW5kZXJMYWIxGTAXBgNVBAMMEENo\n",
    "YXNraS1Db25mbHVlbnQwggEiMA0GCSqGSIb3DQEBAQUAA4IBDwAwggEKAoIBAQCn\n",
    "BX6Qsyc7+idCKIvONxvXQNWuSjvREJFjyf4+dT0bbMW6E2C77uJXuNwZ0pA3eIkb\n",
    "if3zK9tvfCtScitmZulo0rTyG+hGT5i6SI/CJu2icgl05/67EKr8ffCSij1fj/bW\n",
    "9IMY6qu5Nxd+9fdRMgpS1O2td3HuXnT+SsI3H+zillXq2oEsClivnREN4gyd2gYj\n",
    "KiRyXw7xNReAkr/ixU9/ODEhhHO/ZoA3JpCdrJ5bCiiInx4SuUdKEgqft1IxF1Qt\n",
    "V9NyGacv2YhuNc/T2rRqkt8EOP8GTKaKc8DpToTwpKz7jCObPB3A7A9g/3QBvcqz\n",
    "hXosRTCswC/iFoKdJENxAgMBAAGgADANBgkqhkiG9w0BAQsFAAOCAQEAkrdgYq54\n",
    "NwCkJWfPM7oPako3kKama0GnZBOOHhQvnWOiHY3C6pfUmgzhUuyiXhxy/oA54rQn\n",
    "YuREmXDqdr7yBRA25uFEavt3LpvGxZQZbySFWGE6e1C1OzUhdGlcup0w+e9OXaMs\n",
    "A5q0q7aBrRpAhAizVVzLdZMZZEPv2d2ngswnneZqv0BQuCTD15KYpYgFYK20ZRq8\n",
    "GLX9B7MHDUbfPean+AOTPz62pDYyR/3Pgt86G6SGPJ46vPYCjDJJpjoxdAxrw8Tl\n",
    "7lWTN+4zP/WY5IyY5+nKGUV6lSxtH9rl02vNaeYc+Ucvq/S8VwlYLIcGIVuOpNpl\n",
    "y+BBeyMYAw3A1Q==\n",
    "-----END CERTIFICATE REQUEST-----\"\"\"\n",
    ")"
   ]
  },
  {
   "cell_type": "markdown",
   "id": "8ae4c3da",
   "metadata": {},
   "source": [
    "The `sign_csr` method signs the previously generated Certificate Signing Request (CSR) with the CA's private key to create a valid digital certificate. This step finalizes the certificate creation process, allowing it to be used for secure communications."
   ]
  },
  {
   "cell_type": "markdown",
   "id": "a136f604-3663-468f-b446-48c1d2cf68e0",
   "metadata": {},
   "source": [
    "## Chaski CA Server\n",
    "The following code creates an instance of the `ChaskiCA` class. This class\n",
    "is responsible for managing the certification authority server in the Chaski\n",
    "network."
   ]
  },
  {
   "cell_type": "code",
   "execution_count": null,
   "id": "8b2bfa74-8e17-4d6e-a4da-3fdb136dfe84",
   "metadata": {},
   "outputs": [],
   "source": [
    "from chaski.ca import ChaskiCA\n",
    "\n",
    "ca = ChaskiCA(\n",
    "    port=65432,\n",
    "    ssl_certificates_location='chaski_ca_dir',\n",
    "    name='ChaskiCA',\n",
    "    ssl_certificate_attributes={\n",
    "        'Country Name': \"CO\",\n",
    "        'Locality Name': \"Manizales\",\n",
    "        'Organization Name': \"DunderLab\",\n",
    "        'State or Province Name': \"Caldas\",\n",
    "        'Common Name': \"Chaski-Confluent\",\n",
    "    },\n",
    ")"
   ]
  },
  {
   "cell_type": "markdown",
   "id": "d9810f82",
   "metadata": {},
   "source": [
    "You can also run it using the command `chaski_ca`.\n",
    "\n",
    "Once started, the Chaski Certification Authority Server (`ChaskiCA`) will:\n",
    "- Listen for incoming certificate requests on the specified port.\n",
    "- Process these requests to generate and sign new certificates.\n",
    "- Provide functionalities to revoke and validate certificates.\n",
    "- Ensure secure and authenticated communication within the Chaski network.\n",
    "\n",
    "Additional functionalities of the ChaskiCA include:\n",
    "- Logging: Monitor and log activities for auditing and troubleshooting purposes.\n",
    "- Configuration: Easily customizable settings for your specific network environment.\n",
    "- Scalability: Designed to handle multiple certificate requests simultaneously, ensuring seamless operations."
   ]
  },
  {
   "cell_type": "markdown",
   "id": "4a59c66d-ffc0-4911-84bd-1059e117baa6",
   "metadata": {},
   "source": [
    "## Integrate CA in all nodes\n",
    "\n",
    "The Certification Authority (CA) can be used by any Chaski Node to manage\n",
    "secure communications. By integrating the Chaski CA, nodes can request SSL\n",
    "certificates, set up secure connections, and validate peers within the Chaski network.\n",
    "This ensures all nodes communicate securely, maintaining the integrity and\n",
    "confidentiality of the transmitted data."
   ]
  },
  {
   "cell_type": "markdown",
   "id": "7b2edc03",
   "metadata": {},
   "source": [
    "\n",
    "The following code initializes an instance of the `ChaskiStreamer` class. The `ChaskiStreamer`\n",
    "acts as a producer node in the network. The producer node subscribes to a topic named `topic1`\n",
    "and uses SSL certificates for secure communication. The SSL certificates are stored in the\n",
    "`certs_ca` directory.\n",
    "\n",
    "In the first part of the script, the producer node is instantiated, and then it requests an SSL\n",
    "certificate from the Chaski Certification Authority located at `ChaskiCA@127.0.0.1:65432`.\n",
    "\n",
    "The second part of the script demonstrates an alternative way of requesting the SSL certificate.\n",
    "Here, the SSL certificate request is made inline during the initialization of the `ChaskiStreamer`\n",
    "instance."
   ]
  },
  {
   "cell_type": "code",
   "execution_count": null,
   "id": "52ecb996-c0e3-45df-abba-6f245d82c79d",
   "metadata": {},
   "outputs": [],
   "source": [
    "node = ChaskiStreamer(\n",
    "    port=65433,\n",
    "    name='Producer',\n",
    "    subscriptions=['topic1'],\n",
    "    reconnections=None,\n",
    "    ssl_certificates_location='certs_ca',\n",
    ")\n",
    "\n",
    "await producer.request_ssl_certificate('ChaskiCA@127.0.0.1:65432')"
   ]
  },
  {
   "cell_type": "code",
   "execution_count": null,
   "id": "daae6956-7cb2-484b-ba47-68e921c6c61e",
   "metadata": {},
   "outputs": [],
   "source": [
    "node = ChaskiStreamer(\n",
    "    port=65433,\n",
    "    name='Producer',\n",
    "    subscriptions=['topic1'],\n",
    "    reconnections=None,\n",
    "    ssl_certificates_location='certs_ca',\n",
    "    request_ssl_certificate='ChaskiCA@127.0.0.1:65432',\n",
    ")"
   ]
  },
  {
   "cell_type": "markdown",
   "id": "ed1d90a5",
   "metadata": {},
   "source": [
    "## Conclusion\n",
    "\n",
    "The Chaski Certification Authority (CA) is a critical component to ensure the integrity and security\n",
    "of communications within a distributed network. By leveraging the CA, nodes can securely request,\n",
    "validate, and manage digital certificates, establishing trust and encrypted communication channels.\n",
    "This notebook has demonstrated the process of setting up the CA, generating and signing certificates,\n",
    "and integrating the CA into the Chaski nodes.\n",
    "\n",
    "Make sure that the CA server is running before attempting to request certificates from any node.\n",
    "With this setup, you can confidently manage and secure the communication within your Chaski network,\n",
    "ensuring data integrity and confidentiality."
   ]
  }
 ],
 "metadata": {
  "kernelspec": {
   "display_name": "Python 3 (ipykernel)",
   "language": "python",
   "name": "python3"
  },
  "language_info": {
   "codemirror_mode": {
    "name": "ipython",
    "version": 3
   },
   "file_extension": ".py",
   "mimetype": "text/x-python",
   "name": "python",
   "nbconvert_exporter": "python",
   "pygments_lexer": "ipython3",
   "version": "3.12.5"
  }
 },
 "nbformat": 4,
 "nbformat_minor": 5
}
