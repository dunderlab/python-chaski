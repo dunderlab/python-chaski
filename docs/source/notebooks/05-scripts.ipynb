{
 "cells": [
  {
   "cell_type": "markdown",
   "id": "7945c6e6-28e3-4e43-b384-88ed29c1ad26",
   "metadata": {},
   "source": [
    "# Chaski Confluent: Scripts\n",
    "\n",
    "Once Chaski Confluent is installed, a suite of utility scripts become available for managing various services and functionalities."
   ]
  },
  {
   "cell_type": "markdown",
   "id": "30f00357-4ce6-4b0e-b40d-eeca70268197",
   "metadata": {},
   "source": [
    "## ```chaski_certificate_authority```\n",
    "\n",
    "The `chaski_certificate_authority` is a script to start the Chaski Certificate Authority (CA) server.\n",
    "The CA server is responsible for managing SSL/TLS certificates, which are essential for secure communication in Chaski Confluent.\n",
    "It creates and stores certificates in the `.chaski_confluent/ca` directory in the user's home directory.\n",
    "\n",
    "To start the CA server, simply run:\n",
    "```bash\n",
    "chaski_certificate_authority\n",
    "```\n",
    "This will initialize the CA service and print the CA address."
   ]
  },
  {
   "cell_type": "markdown",
   "id": "c22c9362-8786-4f2e-8c05-169a4161cbfd",
   "metadata": {},
   "source": [
    "## ```chaski_remote_proxy```\n",
    "\n",
    "The `chaski_remote_proxy` script is used to start the Chaski Remote Proxy server.\n",
    "This server acts as a mediator to manage remote method invocation across distributed nodes.\n",
    "By using `ChaskiRemote`, objects can interact transparently with other objects on different network nodes.\n",
    "Start the server by running:\n",
    "```bash\n",
    "chaski_remote_proxy -p <port> -n <name> <modules>\n",
    "```\n",
    "where:\n",
    "- `-p <port>` specifies the port number (default: 65432)\n",
    "- `-n <name>` specifies the name of the server (default: ChaskiRemote)\n",
    "- `<modules>` is a comma-separated list of the modules available for remote invocation\n"
   ]
  },
  {
   "cell_type": "markdown",
   "id": "f970f67d-c70b-448e-8ef0-df0e254b8e94",
   "metadata": {},
   "source": [
    "## ```chaski_terminate_connections```\n",
    "\n",
    "The `chaski_terminate_connections` script is used to close active connections on a specified range of ports.\n",
    "It's useful for cleaning up lingering connections that may interfere with network services.\n",
    "Run the script with the following command:\n",
    "\"\"\"bash\n",
    "chaski_terminate_connections <start_port>-<end_port>\n",
    "\"\"\"\n",
    "where:\n",
    "- `<start_port>` is the beginning of the port range\n",
    "- `<end_port>` is the end of the port range"
   ]
  }
 ],
 "metadata": {
  "kernelspec": {
   "display_name": "Python 3 (ipykernel)",
   "language": "python",
   "name": "python3"
  },
  "language_info": {
   "codemirror_mode": {
    "name": "ipython",
    "version": 3
   },
   "file_extension": ".py",
   "mimetype": "text/x-python",
   "name": "python",
   "nbconvert_exporter": "python",
   "pygments_lexer": "ipython3",
   "version": "3.12.5"
  }
 },
 "nbformat": 4,
 "nbformat_minor": 5
}
