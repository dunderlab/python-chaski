{
 "cells": [
  {
   "cell_type": "code",
   "execution_count": 1,
   "id": "5d676001-5df5-48c4-9e44-8d472bdc5cbc",
   "metadata": {
    "nbsphinx": "hidden"
   },
   "outputs": [],
   "source": [
    "import sys\n",
    "import asyncio\n",
    "\n",
    "sys.path.append('../../..')"
   ]
  },
  {
   "cell_type": "markdown",
   "id": "ed496d68-e3fd-4bc0-b2b9-9c49bd00ae98",
   "metadata": {},
   "source": [
    "## Celery Integration with Chaski Confluent\n",
    "\n",
    "Chaski Confluent provides seamless integration with Celery for task management and distributed processing. The following demonstrates how to set up and use Celery with Chaski's transport and backend.\n",
    "\n",
    "### Example `tasks.py`\n",
    "\n",
    "The following script defines a Celery application and a simple task:\n",
    "\n",
    "```python\n",
    "import os\n",
    "from celery import Celery\n",
    "\n",
    "from chaski.utils import transport\n",
    "from chaski.utils import backend\n",
    "\n",
    "# Configure the Celery application\n",
    "app = Celery(\n",
    "    'test',\n",
    "    broker=os.getenv(\"CHASKI_CELERY_BROKER\"),\n",
    "    backend=os.getenv(\"CHASKI_CELERY_BACKEND\"),\n",
    ")\n",
    "\n",
    "# Define a simple task\n",
    "@app.task\n",
    "def add(x, y):\n",
    "    return x + y\n",
    "```\n",
    "\n",
    "### Using the Task\n",
    "\n",
    "To use the `add` task, you can call it asynchronously and retrieve the result as follows:\n",
    "\n",
    "```python\n",
    "from tasks import add\n",
    "\n",
    "# Execute the task asynchronously\n",
    "result = add.delay(5, 6)\n",
    "\n",
    "# Wait for and fetch the result\n",
    "resultado = result.get(timeout=10)\n",
    "```\n",
    "\n",
    "### Key Features\n",
    "- **Broker Configuration**: The broker is set using the `CHASKI_CELERY_BROKER` environment variable, defaulting to `chaski://127.0.0.1:65433` if not defined.\n",
    "- **Backend Configuration**: The backend for storing task results is configured via the `CHASKI_CELERY_BACKEND` environment variable, with the same default as the broker.\n",
    "- **Task Definition**: Tasks are decorated with `@app.task` for easy declaration and execution.\n",
    "\n",
    "This integration allows for distributed task execution with the robustness and scalability of Chaski Confluent."
   ]
  }
 ],
 "metadata": {
  "kernelspec": {
   "display_name": "Python 3 (ipykernel)",
   "language": "python",
   "name": "python3"
  },
  "language_info": {
   "codemirror_mode": {
    "name": "ipython",
    "version": 3
   },
   "file_extension": ".py",
   "mimetype": "text/x-python",
   "name": "python",
   "nbconvert_exporter": "python",
   "pygments_lexer": "ipython3",
   "version": "3.12.7"
  }
 },
 "nbformat": 4,
 "nbformat_minor": 5
}
