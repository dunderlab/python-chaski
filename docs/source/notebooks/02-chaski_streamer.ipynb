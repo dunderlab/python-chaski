{
 "cells": [
  {
   "cell_type": "code",
   "execution_count": 1,
   "id": "d590e4a0",
   "metadata": {
    "nbsphinx": "hidden"
   },
   "outputs": [],
   "source": [
    "import sys\n",
    "\n",
    "sys.path.append('../../..')"
   ]
  },
  {
   "cell_type": "markdown",
   "id": "0e11935b",
   "metadata": {},
   "source": [
    "# ChaskiStreamer: Scalable Message Streaming in Distributed Networks\n",
    "\n",
    "The `ChaskiStreamer` class is designed to efficiently stream messages across a distributed network of nodes.\n",
    "It offers scalable solutions for handling large volumes of data and ensures timely delivery across the network.\n",
    "\n",
    "**Key Features:**\n",
    "\n",
    " - **High Throughput:** Optimized for streaming large volumes of messages.\n",
    " - **Low Latency:** Ensures minimal delay in message delivery across distributed nodes.\n",
    " - **Fault Tolerance:** Robust mechanisms to handle node failures and network issues.\n",
    " - **Dynamic Scaling:** Automatically adjusts to the number of nodes and message load.\n",
    " - **Subscription-based Streaming:** Allows nodes to subscribe to specific topics of interest.\n",
    "\n",
    "## Create Streamer\n",
    "\n",
    "To create a `ChaskiStreamer`, you need to instantiate it with the appropriate parameters. Here’s an example to guide you:\n"
   ]
  },
  {
   "cell_type": "code",
   "execution_count": 3,
   "id": "dfb0d74f-c1a1-4675-9a05-7b2884074b90",
   "metadata": {},
   "outputs": [],
   "source": [
    "from chaski.streamer import ChaskiStreamer\n",
    "import pickle\n",
    "\n",
    "streamer = ChaskiStreamer(\n",
    "    ip='127.0.0.1',  # The IP address for the node to bind to.\n",
    "    port=65432,  # The port number for the node to listen on.\n",
    "    serializer=pickle.dumps,  # Function to serialize data before sending.\n",
    "    deserializer=pickle.loads,  # Function to deserialize received data.\n",
    "    name='Node',  # The name for the node.\n",
    "    subscriptions=['topic1', 'topic2'],  # List of topics the node is interested in.\n",
    "    run=True,  # Flag to start the servers immediately on initialization.\n",
    "    ttl=64,  # Time-to-live value for discovery messages.\n",
    "    root=False,  # Flag to indicate if the node is a root node.\n",
    "    max_connections=5,  # Maximum number of connections the node can handle.\n",
    "    reconnections=32,  # Number of reconnection attempts if a connection is lost.\n",
    ")"
   ]
  },
  {
   "cell_type": "markdown",
   "id": "1b52e6bf",
   "metadata": {},
   "source": [
    "The `address` property provides a string representation of the node's network address in the format\n",
    "`ChaskiStreamer@<IP>:<port>`, which other nodes use to establish a connection."
   ]
  },
  {
   "cell_type": "code",
   "execution_count": 4,
   "id": "74996dd3",
   "metadata": {},
   "outputs": [
    {
     "data": {
      "text/plain": [
       "'ChaskiStreamer@127.0.0.1:65432'"
      ]
     },
     "execution_count": 4,
     "metadata": {},
     "output_type": "execute_result"
    }
   ],
   "source": [
    "streamer.address"
   ]
  },
  {
   "cell_type": "markdown",
   "id": "2eec2b35",
   "metadata": {},
   "source": [
    "## Streaming Messages\n",
    "\n",
    "The `ChaskiStreamer` efficiently streams messages to various nodes in the network, ensuring high\n",
    "throughput and minimal latency for a seamless data transfer experience. Here’s an example:"
   ]
  },
  {
   "cell_type": "code",
   "execution_count": 5,
   "id": "7d0e27e7-faa5-4417-ad2e-ca2c76d8b586",
   "metadata": {},
   "outputs": [
    {
     "data": {
      "text/plain": [
       "*ChaskiStreamer@127.0.0.1:8511"
      ]
     },
     "execution_count": 5,
     "metadata": {},
     "output_type": "execute_result"
    }
   ],
   "source": [
    "producer = ChaskiStreamer(\n",
    "    port=8511,\n",
    "    name='Producer',\n",
    ")\n",
    "producer"
   ]
  },
  {
   "cell_type": "markdown",
   "id": "5f8cbbfb",
   "metadata": {},
   "source": [
    "The `producer` node is set up to publish messages on `topic1`, while the `consumer` node\n",
    "subscribes to this topic to receive messages.\n",
    "\n",
    "  - The `producer` connects to the `consumer` using the `connect` method.\n",
    "  - Messages are then sent using the `push` method on the `producer`.\n"
   ]
  },
  {
   "cell_type": "code",
   "execution_count": null,
   "id": "2cb6f1d9-0d63-4588-87d1-14bc010d6911",
   "metadata": {},
   "outputs": [],
   "source": [
    "await producer.connect('*ChaskiStreamer@127.0.0.1:65433')"
   ]
  },
  {
   "cell_type": "code",
   "execution_count": 9,
   "id": "f92f2fe0",
   "metadata": {},
   "outputs": [],
   "source": [
    "message = {'data': 'Hello, World!'}\n",
    "\n",
    "# Stream a message to all subscribed nodes\n",
    "await producer.push('topic1', message)"
   ]
  },
  {
   "cell_type": "markdown",
   "id": "6f241ece",
   "metadata": {},
   "source": [
    "The `ChaskiStreamer` ensures messages are streamed efficiently, maintaining high\n",
    "throughput and low latency. This mechanism seamlessly handles data transfer in the network."
   ]
  },
  {
   "cell_type": "markdown",
   "id": "69fe5b6f-e422-4b4c-bcf0-001a5b8640b2",
   "metadata": {},
   "source": [
    "## Receiving Messages\n",
    "\n",
    "The `consumer` node listens for messages on the topics it subscribes to, processing\n",
    "and printing each received message asynchronously, enabling real-time message handling\n",
    "and processing within the distributed network.\n"
   ]
  },
  {
   "cell_type": "code",
   "execution_count": 10,
   "id": "6c0945b6-2404-4b54-a6c0-ddba3e87338e",
   "metadata": {},
   "outputs": [
    {
     "data": {
      "text/plain": [
       "*ChaskiStreamer@127.0.0.1:8512"
      ]
     },
     "execution_count": 10,
     "metadata": {},
     "output_type": "execute_result"
    }
   ],
   "source": [
    "consumer = ChaskiStreamer(\n",
    "    port=8512,\n",
    "    name='Consumer',\n",
    "    subscriptions=['topic1'],\n",
    "    paired=True,\n",
    ")\n",
    "\n",
    "consumer"
   ]
  },
  {
   "cell_type": "markdown",
   "id": "526e5ac8",
   "metadata": {},
   "source": [
    "### Receiving Messages using 'async with'\n",
    "\n",
    "The `ChaskiStreamer` allows for another method to consume messages using asynchronous context managers.\n",
    "With the `async with` statement, you can handle incoming messages in a more streamlined way:\n",
    "\n",
    "  - Use `async with consumer` to enter the asynchronous context.\n",
    "  - Iterate over `message_queue` to process each incoming message asynchronously.\n",
    "\n",
    "This ensures all resources are properly managed and released when done, providing cleaner and more efficient code."
   ]
  },
  {
   "cell_type": "code",
   "execution_count": null,
   "id": "81e00f4a-71ff-4626-a35b-476ded2e3cff",
   "metadata": {},
   "outputs": [],
   "source": [
    "async with consumer as message_queue:\n",
    "    async for incoming_message in message_queue:\n",
    "        print(\"Received message:\", incoming_message)"
   ]
  },
  {
   "cell_type": "markdown",
   "id": "912a4714",
   "metadata": {},
   "source": [
    "### Receiving Messages using explicit close\n",
    "\n",
    "Apart from `async with`, `ChaskiStreamer` also provides a way to consume messages\n",
    "using an explicit close operation. This method gives you more control over the\n",
    "streaming process and is useful in scenarios where the context manager approach is\n",
    "not suitable.\n",
    "\n",
    "Here’s how to use it:\n",
    "\n",
    "  - Iterate over the `message_stream()` to process each incoming message asynchronously.\n",
    "  - Explicitly call the `stop()` method to close the streamer and release resources.\n"
   ]
  },
  {
   "cell_type": "code",
   "execution_count": null,
   "id": "614dbb66-1137-4659-bef1-d8d3e700dce0",
   "metadata": {},
   "outputs": [],
   "source": [
    "async for incoming_message in consumer.message_stream():\n",
    "    print(\"Received message:\", incoming_message)"
   ]
  },
  {
   "cell_type": "markdown",
   "id": "93f72afc",
   "metadata": {},
   "source": [
    "Close the consumer to release resources."
   ]
  },
  {
   "cell_type": "code",
   "execution_count": null,
   "id": "968cdf9c",
   "metadata": {},
   "outputs": [],
   "source": [
    "consumer.stop()"
   ]
  },
  {
   "cell_type": "markdown",
   "id": "1a9b4811-38bf-4a3b-9088-23389dcac89f",
   "metadata": {},
   "source": [
    "## File Transfer\n",
    "\n",
    "The file transfer functionality allows for large files to be broken down into smaller chunks,\n",
    "which are then sent across the network to subscribed nodes. This ensures that even if a part of the\n",
    "transfer is interrupted, it can resume from the last chunk, making the process robust and fault-tolerant.\n",
    "The use of callbacks for file reception events ensures that custom actions can be performed\n",
    "upon successful receipt of each file.\n",
    "\n",
    "There are two main parameters for this feature: `destination_folder`, which specifies\n",
    "the folder where incoming files will be stored, and `chunk_size`, which defines\n",
    "the size of data chunks for file transfer.\n"
   ]
  },
  {
   "cell_type": "code",
   "execution_count": null,
   "id": "e22345f6-6425-40d1-bd6c-afed803e81c8",
   "metadata": {},
   "outputs": [],
   "source": [
    "consumer = ChaskiStreamer(\n",
    "    port=65432,\n",
    "    name='Consumer',\n",
    "    subscriptions=['topic1'],\n",
    "    allow_incoming_files=True,\n",
    "    destination_folder='dir',\n",
    "    chunk_size=1024,\n",
    ")\n",
    "consumer"
   ]
  },
  {
   "cell_type": "code",
   "execution_count": null,
   "id": "2d0366d3-e6d2-4f36-9058-41f70d7f8df9",
   "metadata": {},
   "outputs": [],
   "source": [
    "producer = ChaskiStreamer(\n",
    "    port=65433,\n",
    "    name='Producer',\n",
    "    subscriptions=['topic1'],\n",
    "    allow_incoming_files=True,\n",
    "    destination_folder='dir',\n",
    "    chunk_size=1024,\n",
    ")\n",
    "producer"
   ]
  },
  {
   "cell_type": "markdown",
   "id": "30cce0ac-214e-4c31-82d4-ae55d8972e77",
   "metadata": {},
   "source": [
    "Then we can use the method `push_file` to transfer the file to all nodes with\n",
    "the selected topic, ensuring that each chunk of the file is sent efficiently\n",
    "and robustly across the network, even in case of interruptions."
   ]
  },
  {
   "cell_type": "code",
   "execution_count": null,
   "id": "fc19d4b8-0678-42c9-a032-a21cf5f8b1af",
   "metadata": {},
   "outputs": [],
   "source": [
    "with open('test_file_01.jpeg', 'rb') as file:\n",
    "    await producer.push_file('topic1', file)\n",
    "\n",
    "with open('test_file_02.pdf', 'rb') as file:\n",
    "    await producer.push_file('topic1', file)"
   ]
  },
  {
   "cell_type": "markdown",
   "id": "fe53ee18-9f18-43ad-9c27-433bf78d79f2",
   "metadata": {},
   "source": [
    "The `ChaskiStreamer` automatically listens for incoming files and efficiently\n",
    "transfers file chunks, ensuring successful and robust file delivery across the network,\n",
    "even in the case of interruptions, while allowing for custom actions with callbacks upon file receipt."
   ]
  },
  {
   "cell_type": "markdown",
   "id": "16b3916a-f79e-4af0-8871-7a8ac6c0d890",
   "metadata": {
    "lines_to_next_cell": 2
   },
   "source": [
    "Additionally, a callback function can be added to execute each time a new file is received,\n",
    "allowing developers to trigger specific actions such as logging, processing the file,\n",
    "or notifying users, thereby offering more flexibility and control over the file handling process\n",
    "within the distributed network."
   ]
  },
  {
   "cell_type": "code",
   "execution_count": null,
   "id": "3661cee4-3559-4239-8f27-95b8c5268e06",
   "metadata": {},
   "outputs": [],
   "source": [
    "def new_file_event(**kwargs):\n",
    "    for key in kwargs:\n",
    "        print(f\"{k}: {kwargs[key]}\")\n",
    "\n",
    "\n",
    "consumer = ChaskiStreamer(\n",
    "    ...\n",
    "\n",
    "    allow_incoming_files=True,\n",
    "    destination_folder='dir',\n",
    "    file_handling_callback=new_file_event,\n",
    ")"
   ]
  }
 ],
 "metadata": {
  "jupytext": {
   "formats": "py:percent,ipynb"
  },
  "kernelspec": {
   "display_name": "Python 3 (ipykernel)",
   "language": "python",
   "name": "python3"
  },
  "language_info": {
   "codemirror_mode": {
    "name": "ipython",
    "version": 3
   },
   "file_extension": ".py",
   "mimetype": "text/x-python",
   "name": "python",
   "nbconvert_exporter": "python",
   "pygments_lexer": "ipython3",
   "version": "3.12.7"
  }
 },
 "nbformat": 4,
 "nbformat_minor": 5
}
