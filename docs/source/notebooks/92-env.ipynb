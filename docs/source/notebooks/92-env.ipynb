{
 "cells": [
  {
   "cell_type": "markdown",
   "id": "adb4992d-9d8c-4eba-87bf-e2a3bfab5db9",
   "metadata": {},
   "source": [
    "# Chaski Confluent: Scripts\n",
    "\n",
    "## Environment Variable Setup Script\n",
    "\n",
    "This script configures essential environment variables required for the proper functioning of Chaski Confluent services. Below is a summary of the variables and their purposes:\n",
    "\n",
    "- **`CHASKI_STREAMER_ROOT`**: Specifies the address of the root streamer, which acts as the central node for communication.\n",
    "- **`CHASKI_CERTIFICATE_AUTHORITY`**: Points to the address of the Certificate Authority responsible for managing SSL/TLS certificates.\n",
    "- **`CHASKI_REMOTE_PROXY`**: Defines the address of the remote proxy used for routing external communications.\n",
    "- **`CHASKI_CELERY_BACKEND`**: Configures the backend for Celery task management, using the Chaski protocol.\n",
    "- **`CHASKI_CELERY_BROKER`**: Sets the broker address for Celery to handle message passing and task distribution.\n"
   ]
  },
  {
   "cell_type": "markdown",
   "id": "3e350c92-8d79-4629-94ff-dd125ca86e02",
   "metadata": {},
   "source": [
    "## Example: Connecting a Streamer Node Using `CHASKI_STREAMER_ROOT`\n",
    "\n",
    "A streamer node can connect to the root node specified in the `CHASKI_STREAMER_ROOT` environment variable. The following script demonstrates this:\n",
    "\n",
    "```python\n",
    "import os\n",
    "from chaski.streamer import ChaskiStreamer\n",
    "\n",
    "# Create the streamer node\n",
    "streamer = ChaskiStreamer(\n",
    "    ip='127.0.0.1',\n",
    "    port=65434,\n",
    "    name='StreamerNode',\n",
    "    subscriptions=['topic1'],\n",
    ")\n",
    "\n",
    "# Connect to the root node\n",
    "streamer.connect(os.getenv('CHASKI_STREAMER_ROOT')\n",
    "\n",
    "print(\"Streamer connected.\")\n"
   ]
  },
  {
   "cell_type": "markdown",
   "id": "7e205df1-a570-49d9-87eb-4490831a84e9",
   "metadata": {
    "jp-MarkdownHeadingCollapsed": true
   },
   "source": [
    "## Example: Streamer Node with SSL Certificate Integration\n",
    "\n",
    "The following example demonstrates how to configure a producer node with SSL certificate support using the \\`CHASKI_CERTIFICATE_AUTHORITY\\` environment variable. The node can request the SSL certificate either inline or after initialization.\n",
    "\n",
    "### Inline SSL Certificate Request\n",
    "\n",
    "The SSL certificate is requested during the initialization of the producer node:\n",
    "\n",
    "```python\n",
    "import os\n",
    "from chaski.streamer import ChaskiStreamer\n",
    "\n",
    "producer = ChaskiStreamer(\n",
    "    port=65433,\n",
    "    name='Producer',\n",
    "    subscriptions=['topic1'],\n",
    "    reconnections=None,\n",
    "    ssl_certificates_location='certs_ca',\n",
    "    request_ssl_certificate=os.getenv('CHASKI_CERTIFICATE_AUTHORITY'),\n",
    ")\n",
    "\n",
    "print(\"Producer initialized with SSL certificate.\")\n",
    "```\n",
    "\n",
    "### Post-initialization SSL Certificate Request\n",
    "\n",
    "The SSL certificate is requested after the node is initialized:\n",
    "\n",
    "```python\n",
    "import os\n",
    "from chaski.streamer import ChaskiStreamer\n",
    "\n",
    "producer = ChaskiStreamer(\n",
    "    name='Producer',\n",
    "    subscriptions=['topic1'],\n",
    "    reconnections=None,\n",
    "    ssl_certificates_location='certs_ca',\n",
    ")\n",
    "\n",
    "# Request the SSL certificate\n",
    "await producer.request_ssl_certificate(os.getenv('CHASKI_CERTIFICATE_AUTHORITY'))\n",
    "\n",
    "print(\"SSL certificate requested and applied to Producer.\")\n",
    "```\n",
    "\n",
    "Both approaches ensure the producer node is configured for secure communication with the Certificate Authority.\n"
   ]
  }
 ],
 "metadata": {
  "kernelspec": {
   "display_name": "Python 3 (ipykernel)",
   "language": "python",
   "name": "python3"
  },
  "language_info": {
   "codemirror_mode": {
    "name": "ipython",
    "version": 3
   },
   "file_extension": ".py",
   "mimetype": "text/x-python",
   "name": "python",
   "nbconvert_exporter": "python",
   "pygments_lexer": "ipython3",
   "version": "3.12.7"
  }
 },
 "nbformat": 4,
 "nbformat_minor": 5
}
