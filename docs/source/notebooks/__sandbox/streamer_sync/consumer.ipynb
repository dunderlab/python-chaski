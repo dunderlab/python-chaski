{
 "cells": [
  {
   "cell_type": "code",
   "execution_count": null,
   "id": "62ae17c7-a421-41d5-99e9-42c400a80272",
   "metadata": {},
   "outputs": [],
   "source": [
    "import sys\n",
    "sys.path.append('../../../../..')\n",
    "sys.path.append('/usr/local/lib/wingpro10/')\n",
    "\n",
    "import wingdbstub\n",
    "wingdbstub.Ensure()"
   ]
  },
  {
   "cell_type": "code",
   "execution_count": null,
   "id": "db77ca8c-24e2-43ee-a3c9-54699af0742c",
   "metadata": {},
   "outputs": [],
   "source": [
    "# from chaski.streamer import ChaskiStreamer\n",
    "from chaski.streamer_sync import ChaskiStreamerSync as ChaskiStreamer"
   ]
  },
  {
   "cell_type": "code",
   "execution_count": null,
   "id": "a4543262-996b-432e-b0e4-bc093b6e305a",
   "metadata": {},
   "outputs": [],
   "source": [
    "consumer = ChaskiStreamer(\n",
    "    name='Consumer',\n",
    "    subscriptions=['storage'],\n",
    "    paired=True,\n",
    ")\n",
    "consumer.connect('*ChaskiStreamer@127.0.0.1:65433')"
   ]
  },
  {
   "cell_type": "code",
   "execution_count": null,
   "id": "3d686326-b6e6-4daf-979e-60a532fbf0cc",
   "metadata": {},
   "outputs": [],
   "source": [
    "consumer.fetch_storage('data')"
   ]
  },
  {
   "cell_type": "code",
   "execution_count": null,
   "id": "fc537f8d-5e16-4c24-b9d8-5a90bbec443e",
   "metadata": {},
   "outputs": [],
   "source": [
    "consumer.temporal_storage"
   ]
  },
  {
   "cell_type": "code",
   "execution_count": null,
   "id": "3a6c01c5-0cdd-40df-89f1-f27ad7530152",
   "metadata": {},
   "outputs": [],
   "source": []
  }
 ],
 "metadata": {
  "kernelspec": {
   "display_name": "Python 3 (ipykernel)",
   "language": "python",
   "name": "python3"
  },
  "language_info": {
   "codemirror_mode": {
    "name": "ipython",
    "version": 3
   },
   "file_extension": ".py",
   "mimetype": "text/x-python",
   "name": "python",
   "nbconvert_exporter": "python",
   "pygments_lexer": "ipython3",
   "version": "3.12.7"
  }
 },
 "nbformat": 4,
 "nbformat_minor": 5
}
