{
 "cells": [
  {
   "cell_type": "code",
   "execution_count": 1,
   "id": "9ee2bc9c-a048-4fc5-a3e3-4bad1a584b50",
   "metadata": {},
   "outputs": [],
   "source": [
    "import sys\n",
    "sys.path.append('../../../../..')\n",
    "sys.path.append('/usr/local/lib/wingpro10/')\n",
    "\n",
    "import wingdbstub\n",
    "wingdbstub.Ensure()  "
   ]
  },
  {
   "cell_type": "code",
   "execution_count": 2,
   "id": "913de54a-a4e5-4667-a998-caf9ef020b44",
   "metadata": {},
   "outputs": [],
   "source": [
    "# from chaski.streamer import ChaskiStreamer\n",
    "from chaski.streamer_sync import ChaskiStreamerSync as ChaskiStreamer"
   ]
  },
  {
   "cell_type": "code",
   "execution_count": 3,
   "id": "b227e261-7507-412a-9a1e-b54b8df31349",
   "metadata": {},
   "outputs": [
    {
     "data": {
      "text/plain": [
       ": N( 0,  0) : 0"
      ]
     },
     "execution_count": 3,
     "metadata": {},
     "output_type": "execute_result"
    }
   ],
   "source": [
    "producer = ChaskiStreamer(\n",
    "    name='ProducerLAB',\n",
    "    subscriptions=['storage'],\n",
    "    paired=True,\n",
    ")\n",
    "producer.connect('*ChaskiStreamer@127.0.0.1:65433')"
   ]
  },
  {
   "cell_type": "code",
   "execution_count": 4,
   "id": "0d47e5fc-eec9-45f2-aeaa-41e5290462ac",
   "metadata": {},
   "outputs": [],
   "source": [
    "producer.store_data('ad46bc30-cdea-4681-8543-7e88da39dddf',\n",
    "                    {\n",
    "                    'result': 10, \n",
    "                    'state': 'SUCCESS', \n",
    "                    'traceback': None,\n",
    "                    }    \n",
    "                    ,)"
   ]
  },
  {
   "cell_type": "code",
   "execution_count": null,
   "id": "cfc6492d-6c3a-4d71-8124-1ddaefe43477",
   "metadata": {},
   "outputs": [],
   "source": [
    "producer.temporal_storage"
   ]
  }
 ],
 "metadata": {
  "kernelspec": {
   "display_name": "Python 3 (ipykernel)",
   "language": "python",
   "name": "python3"
  },
  "language_info": {
   "codemirror_mode": {
    "name": "ipython",
    "version": 3
   },
   "file_extension": ".py",
   "mimetype": "text/x-python",
   "name": "python",
   "nbconvert_exporter": "python",
   "pygments_lexer": "ipython3",
   "version": "3.12.7"
  }
 },
 "nbformat": 4,
 "nbformat_minor": 5
}
