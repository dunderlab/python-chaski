{
 "cells": [
  {
   "cell_type": "markdown",
   "id": "71e3e7eb-7435-40ad-af35-27c54337d543",
   "metadata": {},
   "source": [
    "> Developed by [Yeison Nolberto Cardona Álvarez, MSc.](https://github.com/yeisonCardona)  \n",
    "[Andrés Marino Álvarez Meza, PhD.](https://github.com/amalvarezme)  \n",
    "César Germán Castellanos Dominguez, PhD.  \n",
    "> _Digital Signal Processing and Control Group_  | _Grupo de Control y Procesamiento Digital de Señales ([GCPDS](https://github.com/UN-GCPDS/))_  \n",
    "> _Universidad Nacional de Colombia sede Manizales_  \n",
    "\n",
    "----"
   ]
  },
  {
   "cell_type": "markdown",
   "id": "b830553b-ba7d-44ed-ad52-c5e245fbfbfb",
   "metadata": {},
   "source": [
    "# Chaski Confluent\n",
    "\n",
    "[Chaski-Confluent](https://github.com/dunderlab/python-chaski) is an advanced distributed communication framework designed to\n",
    "streamline data exchange between nodes over TCP/IP networks. It features robust\n",
    "node discovery, efficient message handling, dynamic pairing based on subscription\n",
    "topics, and extends functionality with remote interactions, ensuring resilience and\n",
    "flexibility in complex network topologies.\n",
    "\n",
    "![GitHub top language](https://img.shields.io/github/languages/top/dunderlab/python-chaski)\n",
    "![PyPI - License](https://img.shields.io/pypi/l/chaski)\n",
    "![PyPI](https://img.shields.io/pypi/v/chaski)\n",
    "![PyPI - Status](https://img.shields.io/pypi/status/chaski)\n",
    "![PyPI - Python Version](https://img.shields.io/pypi/pyversions/chaski)\n",
    "![GitHub last commit](https://img.shields.io/github/last-commit/dunderlab/python-chaski)\n",
    "![CodeFactor Grade](https://img.shields.io/codefactor/grade/github/dunderlab/python-chaski)\n",
    "[![Documentation Status](https://readthedocs.org/projects/chaski-confluent/badge/?version=latest)](https://chaski-confluent.readthedocs.io/en/latest/?badge=latest)\n",
    "\n",
    "The project aims to provide a reliable and scalable solution for distributed systems,\n",
    "addressing the challenges of latency management, subscription routing, remote method\n",
    "invocation, and connection stability. With **Chaski-Confluent**, developers can easily\n",
    "build and maintain efficient communication protocols in their distributed applications.\n",
    "\n",
    "**Chaski-Confluent** is a comprehensive solution to the challenges of distributed systems.\n",
    "Built with robustness and scalability in mind, it leverages advanced networking\n",
    "techniques to facilitate data exchange between nodes. Its architecture allows for\n",
    "dynamic scaling, maintaining communication efficiency without compromising performance\n",
    "as the network grows. This makes **Chaski-Confluent** an ideal choice for resilient and\n",
    "scalable distributed applications that need to adapt to changing conditions and workloads.\n",
    "\n",
    "One of the standout features of **Chaski-Confluent** is its support for both TCP and UDP\n",
    "protocols. This dual-protocol capability ensures that developers can choose the most\n",
    "appropriate method for their specific use cases. Additionally, the sophisticated node\n",
    "discovery mechanism and intelligent subscription-based message routing enable the\n",
    "creation of dynamic network topologies where nodes can communicate effortlessly.\n",
    "These features, along with effective latency management and remote method invocation,\n",
    "position **Chaski-Confluent** as a powerful tool for developing modern distributed systems.\n"
   ]
  },
  {
   "cell_type": "markdown",
   "id": "1f8db753-6c29-450b-84da-6952f82ca870",
   "metadata": {
    "lines_to_next_cell": 2
   },
   "source": [
    "## Main Features of Chaski Confluent\n",
    "\n",
    "The **Chaski-Confluent** framework provides various powerful features that make it suitable for managing distributed systems. Here are some of the key features:\n",
    "\n",
    "**TCP and UDP Communication:**\n",
    "Chaski Confluent supports both TCP and UDP protocols, allowing for reliable and timely message delivery between nodes. The framework ensures efficient data transfer irrespective of the underlying network conditions.\n",
    "\n",
    "**Node Discovery and Pairing:**\n",
    "Automatic discovery of nodes based on shared subscription topics is a crucial feature. Chaski Confluent facilitates the pairing of nodes with common interests, making it easy to build dynamic and scalable network topologies.\n",
    "\n",
    "**Ping and Latency Management:**\n",
    "The framework includes built-in mechanisms for measuring latency between nodes through ping operations. This helps in maintaining healthy connections and ensures that communication within the network is optimal.\n",
    "\n",
    "**Subscription Management:**\n",
    "Nodes can subscribe to specific topics, and messages are routed efficiently based on these subscriptions. This allows for effective communication and data exchange only with relevant nodes.\n",
    "\n",
    "**Keep-alive and Disconnection Handling:**\n",
    "Chaski Confluent ensures that connections between nodes remain active by implementing keep-alive checks. If a connection is lost, the framework handles reconnection attempts gracefully to maintain network integrity.\n",
    "\n",
    "**Remote Method Invocation:**\n",
    "The Chaski Remote class enables remote method invocation and interaction across distributed nodes. Nodes can communicate transparently, invoking methods and accessing attributes on remote objects as if they were local.\n",
    "\n",
    "**Security:**\n",
    "Implement robust security measures to protect data and ensure safe communication between the nodes. Features like encryption and authentication are essential to safeguarding the integrity of the network. For example, you can set up a Certificate Authority (CA) within your network to manage SSL certificates and ensure encrypted communication.\n",
    "\n",
    "**Flexible Configuration:**\n",
    "The framework offers a flexible configuration system, allowing users to customize various parameters such as timeouts, retry intervals, and buffer sizes. This adaptability helps in optimizing the performance according to specific requirements.\n",
    "\n",
    "**Logging and Monitoring:**\n",
    "Comprehensive logging and monitoring capabilities are integrated into the framework, providing real-time insights into the network activity and performance metrics. This aids in troubleshooting and maintaining the health of the system.\n"
   ]
  },
  {
   "cell_type": "markdown",
   "id": "b471965f-6180-49a3-923e-0900aca21c84",
   "metadata": {},
   "source": [
    "## Chaski-Confluent components\n",
    "\n",
    "### Chaski Node\n",
    "\n",
    "The Chaski_ Node is an essential component of the Chaski-Confluent system. It is responsible for initiating and managing\n",
    "network communication between distributed nodes. This class handles functions such as connection establishment,\n",
    "message passing, node discovery, and pairing based on shared subscriptions.\n",
    "\n",
    "### Chaski Streamer\n",
    "\n",
    "The Chaski-Streamer extends the functionality of Chaski-Node by introducing asynchronous message streaming capabilities.\n",
    "It sets up an internal message queue to manage incoming messages, allowing efficient and scalable message processing within a distributed environment.\n",
    "The ChaskiStreamer can enter an asynchronous context, enabling the user to stream messages using the `async with` statement.\n",
    "This allows for handling messages dynamically as they arrive, enhancing the responsiveness and flexibility of the system.\n",
    "\n",
    "### Chaski Remote\n",
    "\n",
    "The Chaski-Remote class enhances the Chaski-Node functionality by enabling remote method invocation and interaction\n",
    "across distributed nodes. It equips nodes with the ability to communicate transparently, invoking methods and accessing\n",
    "attributes on remote objects as if they were local. This is achieved by utilizing the Proxy class, which wraps around\n",
    "the remote objects and provides a clean interface for method calls and attribute access.\n"
   ]
  },
  {
   "cell_type": "markdown",
   "id": "be27c863-08bb-4ca3-931d-10ad2722be06",
   "metadata": {},
   "source": [
    "## Asynchronous Communication Architecture\n",
    "\n",
    "The core functionalities of Chaski-Confluent revolve around efficient and scalable\n",
    "communication mechanisms integral to modern distributed systems. Central to its\n",
    "architecture is the use of the Python `asyncio` library, which facilitates asynchronous\n",
    "programming to manage concurrent connections without the overhead of traditional\n",
    "threading models. This allows for high-performance message handling and real-time\n",
    "node interactions, optimizing the framework for low-latency and responsive communication.\n",
    "\n",
    "In implementing Chaski-Confluent, leveraging asyncio ensures that tasks such as\n",
    "node discovery, subscription management, and remote method invocation are carried\n",
    "out efficiently. Asynchronous programming enables the framework to handle multiple\n",
    "network operations simultaneously, maintaining high throughput and scalability even\n",
    "under heavy network loads. The integration of `asyncio` thus provides a robust\n",
    "foundation for building dynamic and resilient distributed systems, ensuring seamless\n",
    "and efficient data exchange across nodes."
   ]
  },
  {
   "cell_type": "markdown",
   "id": "7e6d992e",
   "metadata": {},
   "source": [
    "## Certification Authority\n",
    "\n",
    "Certification Authority (CA) is crucial for securing communications within the Chaski-Confluent framework.\n",
    "By acting as a trust anchor, CA issues and manages digital certificates, ensuring that nodes in the network\n",
    "can verify each other's identities. This mechanism helps to maintain the integrity and confidentiality of\n",
    "the data being exchanged.\n",
    "\n",
    "The CA in Chaski-Confluent can generate, sign, and distribute SSL certificates, providing a robust\n",
    "security layer. This ensures that all communication between nodes is encrypted and authenticated,\n",
    "significantly reducing the risk of data breaches or unauthorized access.\n"
   ]
  }
 ],
 "metadata": {
  "jupytext": {
   "formats": "py:light,ipynb"
  },
  "kernelspec": {
   "display_name": "Python 3 (ipykernel)",
   "language": "python",
   "name": "python3"
  },
  "language_info": {
   "codemirror_mode": {
    "name": "ipython",
    "version": 3
   },
   "file_extension": ".py",
   "mimetype": "text/x-python",
   "name": "python",
   "nbconvert_exporter": "python",
   "pygments_lexer": "ipython3",
   "version": "3.12.5"
  }
 },
 "nbformat": 4,
 "nbformat_minor": 5
}
