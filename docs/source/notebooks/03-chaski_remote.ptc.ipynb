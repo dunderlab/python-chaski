{
 "cells": [
  {
   "cell_type": "code",
   "execution_count": 1,
   "id": "87beb493-c080-4db6-b188-8faa02ae0143",
   "metadata": {
    "editable": true,
    "nbsphinx": "hidden",
    "slideshow": {
     "slide_type": ""
    },
    "tags": []
   },
   "outputs": [],
   "source": [
    "import sys\n",
    "import asyncio\n",
    "\n",
    "sys.path.append('../../..')"
   ]
  },
  {
   "cell_type": "markdown",
   "id": "9c67ae32-ad47-410c-bd08-c0718f364edf",
   "metadata": {},
   "source": [
    "# ChaskiRemote: Proxy for Distributed Network Interactions\n",
    "\n",
    "ChaskiRemote is designed to facilitate communication across distributed networks. It acts as an intermediary, managing interactions and ensuring robust connectivity.\n",
    "\n",
    "**Key Features:**\n",
    "\n",
    "- **Scalability**: Easily manage multiple network nodes.\n",
    "- **Reliability**: Ensure consistent and reliable data transmission.\n",
    "- **Flexibility**: Adapt to various network topologies and protocols."
   ]
  },
  {
   "cell_type": "markdown",
   "id": "74f32056-8679-42b0-96f4-e3dba2866fa3",
   "metadata": {},
   "source": [
    "## Server\n",
    "\n",
    "The `ChaskiRemote` server facilitates network communication by acting as a proxy for distributed nodes.\n",
    "It ensures robust connectivity, reliable data transmission, and handles the management of various\n",
    "network protocols and topologies seamlessly."
   ]
  },
  {
   "cell_type": "code",
   "execution_count": 2,
   "id": "0caa12d4-c3b0-4477-867a-8ed0927a049e",
   "metadata": {},
   "outputs": [
    {
     "data": {
      "text/plain": [
       "'ChaskiRemote@127.0.0.1:65432'"
      ]
     },
     "execution_count": 2,
     "metadata": {},
     "output_type": "execute_result"
    },
    {
     "name": "stderr",
     "output_type": "stream",
     "text": [
      "None: Registered numpy\n",
      "None-2024-07-20 17:47:26.174817: Calling numpy.random with args:None kwargs:None\n",
      "None-2024-07-20 17:47:26.177237: Calling numpy.random.normal with args:None kwargs:None\n",
      "None-2024-07-20 17:47:26.178215: Calling numpy.random.normal with args:(0, 1, (4, 4)) kwargs:{}\n"
     ]
    }
   ],
   "source": [
    "from chaski.remote import ChaskiRemote\n",
    "\n",
    "server = ChaskiRemote(port='65432')\n",
    "server.address"
   ]
  },
  {
   "cell_type": "markdown",
   "id": "7988b642",
   "metadata": {},
   "source": [
    "## Client\n",
    "\n",
    "The `ChaskiRemote` client leverages the server's capabilities to facilitate remote interactions.\n",
    "By connecting to the proxy server, clients can seamlessly execute distributed commands\n",
    "and access shared resources across the network without dealing with the complexities\n",
    "of network communication protocols.\n"
   ]
  },
  {
   "cell_type": "code",
   "execution_count": 3,
   "id": "d9f78716-ab02-4ca8-8bcb-ff0762851286",
   "metadata": {},
   "outputs": [],
   "source": [
    "client = ChaskiRemote()\n",
    "await client.connect(server.address)"
   ]
  },
  {
   "cell_type": "markdown",
   "id": "c226a077",
   "metadata": {},
   "source": [
    "### Connect to Remote NumPy\n",
    "\n",
    "Once connected to the `ChaskiRemote` server, you can access and use the registered libraries,\n",
    "such as NumPy, as if they were local.\n"
   ]
  },
  {
   "cell_type": "code",
   "execution_count": 4,
   "id": "164d33b5-3ad2-4c11-8aac-c614bd88dc44",
   "metadata": {},
   "outputs": [
    {
     "data": {
      "text/plain": [
       "ChaskiProxy(numpy, ChaskiRemote@127.0.0.1:55889)"
      ]
     },
     "execution_count": 4,
     "metadata": {},
     "output_type": "execute_result"
    }
   ],
   "source": [
    "np = client.proxy('numpy')\n",
    "np"
   ]
  },
  {
   "cell_type": "markdown",
   "id": "5e47d314",
   "metadata": {},
   "source": [
    "### Use remote Numpy\n",
    "\n",
    "The following code generates a 4x4 matrix with normally distributed random numbers using\n",
    "the remote NumPy library connected through `ChaskiRemote`."
   ]
  },
  {
   "cell_type": "code",
   "execution_count": 5,
   "id": "1fa8ae97-3b1b-4cc8-8629-0eb0da1e2491",
   "metadata": {},
   "outputs": [
    {
     "data": {
      "text/plain": [
       "array([[-1.93861735, -0.83464899, -0.97370041,  0.39538987],\n",
       "       [ 0.45003648, -0.29468189,  0.67619071,  0.29004616],\n",
       "       [ 0.87512625,  0.11887405, -0.19767929, -1.2296509 ],\n",
       "       [-3.38679334, -0.45981944,  0.23840313, -0.79860475]])"
      ]
     },
     "execution_count": 5,
     "metadata": {},
     "output_type": "execute_result"
    }
   ],
   "source": [
    "np.random.normal(0, 1, (4, 4))"
   ]
  },
  {
   "cell_type": "markdown",
   "id": "2360494c-7f2a-4ff7-a62d-f3766dd74d04",
   "metadata": {},
   "source": [
    "## Restrict Module Access\n",
    "\n",
    "To limit the module access in `ChaskiRemote`, you can specify the modules that the server can provide to clients.\n",
    "This ensures that only the specified modules are accessible, enhancing security and control over the network interactions."
   ]
  },
  {
   "cell_type": "code",
   "execution_count": 6,
   "id": "51c2473b-8ddf-4112-96fb-4355833943f5",
   "metadata": {},
   "outputs": [
    {
     "data": {
      "text/plain": [
       "'ChaskiRemote@127.0.0.1:65433'"
      ]
     },
     "execution_count": 6,
     "metadata": {},
     "output_type": "execute_result"
    },
    {
     "name": "stderr",
     "output_type": "stream",
     "text": [
      "None: Registered numpy\n"
     ]
    }
   ],
   "source": [
    "server = ChaskiRemote(port='65433', available=['numpy'])\n",
    "server.address"
   ]
  },
  {
   "cell_type": "markdown",
   "id": "6b3f0edf",
   "metadata": {},
   "source": [
    "Here we initialize the `ChaskiRemote` client and set up a connection to the server.\n",
    "This connection allows the client to interact with remote resources and execute\n",
    "distributed commands seamlessly."
   ]
  },
  {
   "cell_type": "code",
   "execution_count": 7,
   "id": "6e978c74-9627-41aa-8f6c-84605417f3e5",
   "metadata": {},
   "outputs": [],
   "source": [
    "client = ChaskiRemote()\n",
    "await client.connect(server.address)"
   ]
  },
  {
   "cell_type": "markdown",
   "id": "a0294cf9",
   "metadata": {},
   "source": [
    "After connecting, we use the `client.proxy` method to access the `numpy` library\n",
    "remotely. This feature enables the use of remote libraries as if they were local,\n",
    "making distributed computing more accessible."
   ]
  },
  {
   "cell_type": "code",
   "execution_count": 8,
   "id": "f4b138cb-f04c-43ac-8fab-8c8804122472",
   "metadata": {},
   "outputs": [
    {
     "data": {
      "text/plain": [
       "ChaskiProxy(numpy, ChaskiRemote@127.0.0.1:56117)"
      ]
     },
     "execution_count": 8,
     "metadata": {},
     "output_type": "execute_result"
    }
   ],
   "source": [
    "client.proxy('numpy')"
   ]
  },
  {
   "cell_type": "markdown",
   "id": "d1e011dd",
   "metadata": {},
   "source": [
    "Similarly, other libraries like `scipy` cannot be accessed using the `client.proxy`\n",
    "method because it is not in the list of available modules. This demonstrates the\n",
    "security and control provided by `ChaskiRemote` in limiting module access for\n",
    "network-based operations."
   ]
  },
  {
   "cell_type": "code",
   "execution_count": 9,
   "id": "c52199bb-a69c-432b-9503-2bd0dab927b2",
   "metadata": {},
   "outputs": [
    {
     "name": "stderr",
     "output_type": "stream",
     "text": [
      "Module scipy not found in the conected edges\n"
     ]
    }
   ],
   "source": [
    "client.proxy('scipy')"
   ]
  },
  {
   "cell_type": "markdown",
   "id": "4d763be0-74ae-4fc6-80d8-aa0ab32c01a5",
   "metadata": {},
   "source": [
    "## Attributes and Methods\n",
    "\n",
    "Here we initialize a `ChaskiRemote` server specifying `os` as an available module.\n",
    "Then we set up a client to connect to this server, allowing remote access to the `os` module."
   ]
  },
  {
   "cell_type": "code",
   "execution_count": 11,
   "id": "b4613fd6-5f5d-4935-9979-173f3d80b13e",
   "metadata": {},
   "outputs": [
    {
     "name": "stderr",
     "output_type": "stream",
     "text": [
      "None: Registered os\n"
     ]
    },
    {
     "data": {
      "text/plain": [
       "ChaskiProxy(os, ChaskiRemote@127.0.0.1:44043)"
      ]
     },
     "execution_count": 11,
     "metadata": {},
     "output_type": "execute_result"
    },
    {
     "name": "stderr",
     "output_type": "stream",
     "text": [
      "None-2024-07-20 17:47:50.213203: Calling os.name with args:None kwargs:None\n",
      "None-2024-07-20 17:48:00.417942: Calling os.name with args:None kwargs:None\n",
      "None-2024-07-20 17:48:02.301224: Calling os.name with args:None kwargs:None\n",
      "None-2024-07-20 17:48:03.745586: Calling os.name with args:None kwargs:None\n"
     ]
    }
   ],
   "source": [
    "server = ChaskiRemote(port='65434', available=['os'])\n",
    "client = ChaskiRemote()\n",
    "\n",
    "await asyncio.sleep(0.3)\n",
    "await client.connect(server.address)\n",
    "await asyncio.sleep(0.3)\n",
    "\n",
    "remote_os = client.proxy('os')\n",
    "remote_os"
   ]
  },
  {
   "cell_type": "markdown",
   "id": "f4e793a0",
   "metadata": {},
   "source": [
    "`os.name` should be a string"
   ]
  },
  {
   "cell_type": "code",
   "execution_count": 12,
   "id": "1a330055-6f23-4e5d-ac65-27ec6ab1691d",
   "metadata": {},
   "outputs": [
    {
     "data": {
      "text/plain": [
       "'posix'"
      ]
     },
     "execution_count": 12,
     "metadata": {},
     "output_type": "execute_result"
    }
   ],
   "source": [
    "remote_os.name"
   ]
  },
  {
   "cell_type": "markdown",
   "id": "e3f421cc-9e0d-427b-84a9-656bb47e73f4",
   "metadata": {},
   "source": [
    "The type of `remote_os.name` is `ObjectProxying`"
   ]
  },
  {
   "cell_type": "code",
   "execution_count": 13,
   "id": "ade76e65-b599-4799-b1ee-a48451bf92f4",
   "metadata": {},
   "outputs": [
    {
     "data": {
      "text/plain": [
       "chaski.remote.ChaskiObjectProxying(str)"
      ]
     },
     "execution_count": 13,
     "metadata": {},
     "output_type": "execute_result"
    }
   ],
   "source": [
    "type(remote_os.name)"
   ]
  },
  {
   "cell_type": "markdown",
   "id": "81ab7d9a-b87b-496f-84a8-c27d54199b4b",
   "metadata": {},
   "source": [
    "It is possible to access the correct value by calling `remote_os.name._`"
   ]
  },
  {
   "cell_type": "code",
   "execution_count": 14,
   "id": "1cf9aadc-d771-4d89-bdf2-282313c42ab6",
   "metadata": {},
   "outputs": [
    {
     "data": {
      "text/plain": [
       "'posix'"
      ]
     },
     "execution_count": 14,
     "metadata": {},
     "output_type": "execute_result"
    }
   ],
   "source": [
    "remote_os.name._"
   ]
  },
  {
   "cell_type": "markdown",
   "id": "6a80e018-64d4-4127-bd1f-d22a8b39be0f",
   "metadata": {},
   "source": [
    "or using Context Managers, you can ensure that the remote attribute is correctly obtained and cleaned up,\n",
    "thus preventing potential resource leaks or unintended states in your distributed network interactions."
   ]
  },
  {
   "cell_type": "code",
   "execution_count": 15,
   "id": "0b35b6d5-595d-4d9a-8be5-1f140252857c",
   "metadata": {},
   "outputs": [],
   "source": [
    "with remote_os.name as name:\n",
    "    name  # is a string"
   ]
  }
 ],
 "metadata": {
  "kernelspec": {
   "display_name": "Python 3 (ipykernel)",
   "language": "python",
   "name": "python3"
  },
  "language_info": {
   "codemirror_mode": {
    "name": "ipython",
    "version": 3
   },
   "file_extension": ".py",
   "mimetype": "text/x-python",
   "name": "python",
   "nbconvert_exporter": "python",
   "pygments_lexer": "ipython3",
   "version": "3.12.5"
  }
 },
 "nbformat": 4,
 "nbformat_minor": 5
}
